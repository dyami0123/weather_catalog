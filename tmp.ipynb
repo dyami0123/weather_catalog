{
 "cells": [
  {
   "cell_type": "code",
   "execution_count": 1,
   "metadata": {},
   "outputs": [
    {
     "data": {
      "text/html": [
       "<pre style=\"white-space:pre;overflow-x:auto;line-height:normal;font-family:Menlo,'DejaVu Sans Mono',consolas,'Courier New',monospace\"><span style=\"color: #808000; text-decoration-color: #808000; font-weight: bold\">/Users/dandrews/miniconda3/envs/weather_catalog/lib/python3.11/site-packages/pydantic/_internal/_config.py:</span><span style=\"color: #808000; text-decoration-color: #808000; font-weight: bold\">341</span><span style=\"color: #808000; text-decoration-color: #808000; font-weight: bold\"> UserWarning</span><span style=\"color: #808000; text-decoration-color: #808000\">: Valid config keys have changed in V2:</span>\n",
       "<span style=\"color: #808000; text-decoration-color: #808000\">* </span><span style=\"color: #808000; text-decoration-color: #808000\">'orm_mode'</span><span style=\"color: #808000; text-decoration-color: #808000\"> has been renamed to </span><span style=\"color: #808000; text-decoration-color: #808000\">'from_attributes'</span>\n",
       "</pre>\n"
      ],
      "text/plain": [
       "\u001b[1;33m/Users/dandrews/miniconda3/envs/weather_catalog/lib/python3.11/site-packages/pydantic/_internal/\u001b[0m\u001b[1;33m_config.py\u001b[0m\u001b[1;33m:\u001b[0m\u001b[1;33m341\u001b[0m\u001b[1;33m UserWarning\u001b[0m\u001b[33m: Valid config keys have changed in V2:\u001b[0m\n",
       "\u001b[33m* \u001b[0m\u001b[33m'orm_mode'\u001b[0m\u001b[33m has been renamed to \u001b[0m\u001b[33m'from_attributes'\u001b[0m\n"
      ]
     },
     "metadata": {},
     "output_type": "display_data"
    },
    {
     "data": {
      "text/plain": [
       "{'start_date': <airflow.models.param.Param at 0x1078b9e90>,\n",
       " 'end_date': <airflow.models.param.Param at 0x1082bb850>,\n",
       " 'frequency': <airflow.models.param.Param at 0x1078c4190>,\n",
       " 'location.latitude': <airflow.models.param.Param at 0x1078c5410>,\n",
       " 'location.longitude': <airflow.models.param.Param at 0x1078c7610>,\n",
       " 'weather_model_group': <airflow.models.param.Param at 0x1078c7ed0>,\n",
       " 'weather_model_id': <airflow.models.param.Param at 0x1078c4bd0>,\n",
       " 'resolution': <airflow.models.param.Param at 0x1078c7b10>,\n",
       " 'variable': <airflow.models.param.Param at 0x1078c5110>}"
      ]
     },
     "execution_count": 1,
     "metadata": {},
     "output_type": "execute_result"
    }
   ],
   "source": [
    "\n",
    "from weather_catalog.query.point_daterange_query import PointDateRangeQuery\n",
    "PointDateRangeQuery.create_params()"
   ]
  },
  {
   "cell_type": "code",
   "execution_count": null,
   "metadata": {},
   "outputs": [],
   "source": []
  }
 ],
 "metadata": {
  "kernelspec": {
   "display_name": "weather_catalog",
   "language": "python",
   "name": "python3"
  },
  "language_info": {
   "codemirror_mode": {
    "name": "ipython",
    "version": 3
   },
   "file_extension": ".py",
   "mimetype": "text/x-python",
   "name": "python",
   "nbconvert_exporter": "python",
   "pygments_lexer": "ipython3",
   "version": "3.11.9"
  }
 },
 "nbformat": 4,
 "nbformat_minor": 2
}
